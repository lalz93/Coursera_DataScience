{
 "cells": [
  {
   "cell_type": "markdown",
   "metadata": {},
   "source": [
    "# My Jupyter Notebook on IBM Watson Studio"
   ]
  },
  {
   "cell_type": "markdown",
   "metadata": {},
   "source": [
    "**Letícia Alves Lima Zaneti** <br>\n",
    "Electrical Engineering"
   ]
  },
  {
   "cell_type": "markdown",
   "metadata": {},
   "source": [
    "*I have been working in energy field which have been under major changes such as the dissemination of solar and wind energy and also the spread of electric\n",
    "vehicles. These changes linked to digital transformations are generating a huge volume of data. Therefore I want to know more tools in data science to contribute to these sector gathering the generated data and transforming into insigths. For example, analyzing how weather conditions influence the load, and how this can be used to make better predictions. Or consolidating satellite solar radiation data to predict solar generation. Or try to link consumer behavioral data with energy data. And try to discover other links between data that haven't even been thought of through their exploratory analysis.*"
   ]
  },
  {
   "cell_type": "markdown",
   "metadata": {},
   "source": [
    " ### The code below create a data frame with two columns, onde indicating which element is (in the case a transformer), and the other its active power and then a third column is created by multipling the active power by a multiplier. "
   ]
  },
  {
   "cell_type": "code",
   "execution_count": 26,
   "metadata": {},
   "outputs": [
    {
     "data": {
      "text/html": [
       "<div>\n",
       "<style scoped>\n",
       "    .dataframe tbody tr th:only-of-type {\n",
       "        vertical-align: middle;\n",
       "    }\n",
       "\n",
       "    .dataframe tbody tr th {\n",
       "        vertical-align: top;\n",
       "    }\n",
       "\n",
       "    .dataframe thead th {\n",
       "        text-align: right;\n",
       "    }\n",
       "</style>\n",
       "<table border=\"1\" class=\"dataframe\">\n",
       "  <thead>\n",
       "    <tr style=\"text-align: right;\">\n",
       "      <th></th>\n",
       "      <th>Potência Ativa</th>\n",
       "      <th>Potência Reativa</th>\n",
       "    </tr>\n",
       "    <tr>\n",
       "      <th>Trafo</th>\n",
       "      <th></th>\n",
       "      <th></th>\n",
       "    </tr>\n",
       "  </thead>\n",
       "  <tbody>\n",
       "    <tr>\n",
       "      <th>1</th>\n",
       "      <td>10</td>\n",
       "      <td>4.2</td>\n",
       "    </tr>\n",
       "    <tr>\n",
       "      <th>2</th>\n",
       "      <td>35</td>\n",
       "      <td>14.7</td>\n",
       "    </tr>\n",
       "    <tr>\n",
       "      <th>3</th>\n",
       "      <td>50</td>\n",
       "      <td>21.0</td>\n",
       "    </tr>\n",
       "  </tbody>\n",
       "</table>\n",
       "</div>"
      ],
      "text/plain": [
       "       Potência Ativa  Potência Reativa\n",
       "Trafo                                  \n",
       "1                  10               4.2\n",
       "2                  35              14.7\n",
       "3                  50              21.0"
      ]
     },
     "execution_count": 26,
     "metadata": {},
     "output_type": "execute_result"
    }
   ],
   "source": [
    "import pandas as pd\n",
    "data = [['1', 10], ['2', 35], ['3', 50]]\n",
    "df = pd.DataFrame(data, columns =['Trafo', 'Potência Ativa'])\n",
    "multiplier = 0.42\n",
    "df['Potência Reativa'] = df['Potência Ativa']*multiplier\n",
    "df = df.set_index('Trafo')\n",
    "df"
   ]
  },
  {
   "cell_type": "markdown",
   "metadata": {},
   "source": [
    "***\n",
    "> The code above used the library pandas. To see more information about, please check: https://pandas.pydata.org/. \n",
    "\n",
    "Python has many other useful libraries that can help in data analysis such as:\n",
    "- Numpy\n",
    "- Plotly\n",
    "- Matplotlib\n",
    "- SciPy"
   ]
  }
 ],
 "metadata": {
  "kernelspec": {
   "display_name": "Python 3.10",
   "language": "python",
   "name": "python3"
  },
  "language_info": {
   "codemirror_mode": {
    "name": "ipython",
    "version": 3
   },
   "file_extension": ".py",
   "mimetype": "text/x-python",
   "name": "python",
   "nbconvert_exporter": "python",
   "pygments_lexer": "ipython3",
   "version": "3.10.6"
  }
 },
 "nbformat": 4,
 "nbformat_minor": 1
}
